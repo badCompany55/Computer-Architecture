{
 "cells": [
  {
   "cell_type": "markdown",
   "metadata": {},
   "source": [
    "## Binary Example\n",
    "0. 0\n",
    "1. 1\n",
    "2. 10\n",
    "3. 11\n",
    "4. 100\n",
    "5. 101\n",
    "6. 110\n",
    "7. 111\n",
    "8. 1000\n",
    "11. 1001\n",
    "12. 1010\n",
    "13. 1101\n",
    "14. 1110\n",
    "15. 1111\n",
    "\n",
    "* add another digit on powers of 2\n",
    "    * ^2\n",
    "\n",
    "## Hexadecimal Example\n",
    "0. 0\n",
    "1. 1\n",
    "2. 2\n",
    "* all the way to 9\n",
    "10. A\n",
    "11. B\n",
    "12. C\n",
    "13. D\n",
    "14. E\n",
    "15. F === 15 == 0b1111\n",
    "16. 10\n",
    "17. 11\n",
    "* patter repeats itself"
   ]
  },
  {
   "cell_type": "code",
   "execution_count": null,
   "metadata": {},
   "outputs": [],
   "source": []
  },
  {
   "cell_type": "markdown",
   "metadata": {},
   "source": [
    "## Conversion Examples\n",
    "1. hex __0x73__\n",
    "    * binary __0b 0111 0011__\n",
    "    * base 10 __(7 x 16) + 3 = 115__\n",
    "2. base10 __54__\n",
    "    * hex __0x36__\n",
    "        * Every Two numbers is a nibit(__4 numbers__) in binary\n",
    "    * binary __0b 0011 0110__\n"
   ]
  },
  {
   "cell_type": "code",
   "execution_count": null,
   "metadata": {},
   "outputs": [],
   "source": []
  }
 ],
 "metadata": {
  "kernelspec": {
   "display_name": "Python 3",
   "language": "python",
   "name": "python3"
  },
  "language_info": {
   "codemirror_mode": {
    "name": "ipython",
    "version": 3
   },
   "file_extension": ".py",
   "mimetype": "text/x-python",
   "name": "python",
   "nbconvert_exporter": "python",
   "pygments_lexer": "ipython3",
   "version": "3.7.3"
  }
 },
 "nbformat": 4,
 "nbformat_minor": 4
}
