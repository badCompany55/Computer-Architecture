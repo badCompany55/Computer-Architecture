{
 "cells": [
  {
   "cell_type": "markdown",
   "metadata": {},
   "source": [
    "## Guided Lecture Two\n",
    "1. Boolean bitwise operations\n",
    "2. Shifting\n",
    "3. Masking"
   ]
  },
  {
   "cell_type": "markdown",
   "metadata": {},
   "source": [
    "### Boolean operators\n",
    "1. OR\n",
    "    * Standard\n",
    "        * a || b == true\n",
    "        * a or b == True\n",
    "    * Bitwise\n",
    "        * a | b == 1\n",
    "2. AND\n",
    "    * Standard\n",
    "        * a = True \n",
    "        * b = False\n",
    "        * a && b == False\n",
    "    * Bitwise\n",
    "        * a = 1\n",
    "        * b = 0\n",
    "        * a & b == 0\n",
    "3. NOR\n",
    "4. XOR (\"There can only be one\")\n",
    "    * Standard\n",
    "        * a = True\n",
    "        * b = True\n",
    "        * a XOR b == False\n",
    "        * a = True\n",
    "        * b = False\n",
    "        * a XOR b == True\n",
    "    * Bitwise\n",
    "        * 1 ^ 0 == 1\n",
    "        * 1 ^ 1 == 0\n",
    "5. NAND\n",
    "6. NOT\n",
    "    * Standard\n",
    "        * !True == False\n",
    "        * !False == True\n",
    "    * Bitwise\n",
    "        * ~1 == 0\n",
    "        * ~0 == 1"
   ]
  },
  {
   "cell_type": "markdown",
   "metadata": {},
   "source": [
    "### Shifting Bits\n",
    "#### __Example__\n",
    "__Number__ | __Shift__ | __Result__\n",
    ":--- | :--- | :---\n",
    "0b 1100 | >> 1 | 0110\n",
    "ob 0110 | >> 1 | 0011\n",
    "ob 0011 | >> 1 | 0001\n",
    "ob 0011 | << 1 | 0110\n",
    "ob 0110 | << 1 | 1100\n",
    "ob 1100 | << 1 | 11000\n",
    "\n",
    "* The first number gets moved one space to the right\n",
    "* Now the first space is empty and gets replaced by a 0\n",
    "* __If one at the end of a right shift, the one just falls off__\n",
    "* Works the same as a left shift\n",
    "* __One at the end of a left shift, a 0 is added to the right side of the bit__"
   ]
  },
  {
   "cell_type": "code",
   "execution_count": 5,
   "metadata": {},
   "outputs": [
    {
     "data": {
      "text/plain": [
       "'0b110'"
      ]
     },
     "execution_count": 5,
     "metadata": {},
     "output_type": "execute_result"
    }
   ],
   "source": [
    "bin(0b00001100 >> 1)"
   ]
  },
  {
   "cell_type": "code",
   "execution_count": 4,
   "metadata": {},
   "outputs": [
    {
     "data": {
      "text/plain": [
       "'0b1'"
      ]
     },
     "execution_count": 4,
     "metadata": {},
     "output_type": "execute_result"
    }
   ],
   "source": [
    "bin(0b00000110 >> 2)"
   ]
  },
  {
   "cell_type": "code",
   "execution_count": 7,
   "metadata": {},
   "outputs": [
    {
     "data": {
      "text/plain": [
       "'0b1100011000'"
      ]
     },
     "execution_count": 7,
     "metadata": {},
     "output_type": "execute_result"
    }
   ],
   "source": [
    "bin(0b11000110 << 2)"
   ]
  },
  {
   "cell_type": "markdown",
   "metadata": {},
   "source": [
    "### Masking\n",
    "1. Take a bit number\n",
    "2. Use the and operator with another bit number\n",
    "3. The second bit number will have zeros in the places I don't want from the first number\n"
   ]
  },
  {
   "cell_type": "markdown",
   "metadata": {},
   "source": [
    "#### __Example__\n",
    "1. Gets the 11 closest to the left\n",
    "2. Zeros will always be on the end\n",
    "    * If you want to get rid of the last two zeros, shift it to the right >> 2"
   ]
  },
  {
   "cell_type": "code",
   "execution_count": 14,
   "metadata": {},
   "outputs": [
    {
     "name": "stdout",
     "output_type": "stream",
     "text": [
      "0b1100\n"
     ]
    }
   ],
   "source": [
    "a = 0b11001100\n",
    "b = 0b00001100\n",
    "answer = bin(a & b)\n",
    "print(answer)"
   ]
  },
  {
   "cell_type": "code",
   "execution_count": 23,
   "metadata": {},
   "outputs": [
    {
     "name": "stdout",
     "output_type": "stream",
     "text": [
      "0b11\n"
     ]
    }
   ],
   "source": [
    "minus_zeros = bin(0b1100 >> 2)\n",
    "print(minus_zeros)"
   ]
  },
  {
   "cell_type": "code",
   "execution_count": null,
   "metadata": {},
   "outputs": [],
   "source": []
  }
 ],
 "metadata": {
  "kernelspec": {
   "display_name": "Python 3",
   "language": "python",
   "name": "python3"
  },
  "language_info": {
   "codemirror_mode": {
    "name": "ipython",
    "version": 3
   },
   "file_extension": ".py",
   "mimetype": "text/x-python",
   "name": "python",
   "nbconvert_exporter": "python",
   "pygments_lexer": "ipython3",
   "version": "3.7.3"
  }
 },
 "nbformat": 4,
 "nbformat_minor": 4
}
